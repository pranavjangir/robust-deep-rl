{
 "cells": [
  {
   "cell_type": "code",
   "execution_count": 4,
   "metadata": {},
   "outputs": [
    {
     "name": "stdout",
     "output_type": "stream",
     "text": [
      "Loading model from igpaub/ppo-CarRacing-v2...\n",
      "Model loaded successfully.\n"
     ]
    },
    {
     "name": "stderr",
     "output_type": "stream",
     "text": [
      "c:\\Users\\rusha\\miniconda3\\envs\\ddrl_project\\lib\\site-packages\\gym\\core.py:317: DeprecationWarning: \u001b[33mWARN: Initializing wrapper in old step API which returns one bool instead of two. It is recommended to set `new_step_api=True` to use new step API. This will be the default behaviour in future.\u001b[0m\n",
      "  deprecation(\n",
      "c:\\Users\\rusha\\miniconda3\\envs\\ddrl_project\\lib\\site-packages\\gym\\wrappers\\step_api_compatibility.py:39: DeprecationWarning: \u001b[33mWARN: Initializing environment in old step API which returns one bool instead of two. It is recommended to set `new_step_api=True` to use new step API. This will be the default behaviour in future.\u001b[0m\n",
      "  deprecation(\n",
      "c:\\Users\\rusha\\miniconda3\\envs\\ddrl_project\\lib\\site-packages\\gym\\utils\\passive_env_checker.py:241: DeprecationWarning: `np.bool8` is a deprecated alias for `np.bool_`.  (Deprecated NumPy 1.24)\n",
      "  if not isinstance(terminated, (bool, np.bool8)):\n"
     ]
    },
    {
     "name": "stdout",
     "output_type": "stream",
     "text": [
      "887.9154078549642\n"
     ]
    }
   ],
   "source": [
    "import gym\n",
    "from stable_baselines3 import PPO\n",
    "\n",
    "# Load the pre-trained model checkpoint\n",
    "def load_from_hub(repo_id, filename):\n",
    "    print(f\"Loading model from {repo_id}...\")\n",
    "    # Code to load model from the hub\n",
    "    print(\"Model loaded successfully.\")\n",
    "    return PPO.load(filename)\n",
    "\n",
    "# Load the pre-trained model checkpoint\n",
    "repo_id = \"igpaub/ppo-CarRacing-v2\"\n",
    "filename = \"ppo-CarRacing-v2.zip\"  # Replace {MODEL FILENAME} with the actual filename\n",
    "model = load_from_hub(repo_id, filename)\n",
    "\n",
    "# Instantiate the CarRacing environment\n",
    "env = gym.make(\"CarRacing-v2\", render_mode='human')\n",
    "\n",
    "# Run the model in the environment\n",
    "total_reward = 0\n",
    "obs = env.reset()\n",
    "done = False\n",
    "while not done:\n",
    "    action, _ = model.predict(obs, deterministic=True)\n",
    "    obs, reward, done, _ = env.step(action)\n",
    "    total_reward += reward\n",
    "    env.render()\n",
    "\n",
    "# Close the environment\n",
    "env.close()\n",
    "print(total_reward)\n"
   ]
  }
 ],
 "metadata": {
  "kernelspec": {
   "display_name": "ddrl_project",
   "language": "python",
   "name": "python3"
  },
  "language_info": {
   "codemirror_mode": {
    "name": "ipython",
    "version": 3
   },
   "file_extension": ".py",
   "mimetype": "text/x-python",
   "name": "python",
   "nbconvert_exporter": "python",
   "pygments_lexer": "ipython3",
   "version": "3.8.19"
  }
 },
 "nbformat": 4,
 "nbformat_minor": 2
}
