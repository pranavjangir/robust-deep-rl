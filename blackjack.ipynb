{
 "cells": [
  {
   "cell_type": "code",
   "execution_count": 1,
   "metadata": {},
   "outputs": [],
   "source": [
    "import pickle\n",
    "from envs.blackjack_env import BlackjackEnv\n",
    "from dataloaders.blackjack_dataloader import BlackjackDataset, BlackjackDataLoader\n",
    "\n",
    "env = BlackjackEnv()\n",
    "dataset = BlackjackDataset(env, num_samples=1000)\n",
    "\n",
    "with open('blackjack_dataset.pkl', 'wb') as f:\n",
    "    pickle.dump(dataset, f)\n",
    "\n",
    "# loader = BlackjackDataLoader(env, num_samples=1000, batch_size=64)"
   ]
  },
  {
   "cell_type": "code",
   "execution_count": 1,
   "metadata": {},
   "outputs": [
    {
     "name": "stderr",
     "output_type": "stream",
     "text": [
      "c:\\Users\\rusha\\miniconda3\\envs\\ddrl_project\\lib\\site-packages\\matplotlib\\__init__.py:152: DeprecationWarning: distutils Version classes are deprecated. Use packaging.version instead.\n",
      "  if LooseVersion(module.__version__) < minver:\n",
      "c:\\Users\\rusha\\miniconda3\\envs\\ddrl_project\\lib\\site-packages\\setuptools\\_distutils\\version.py:345: DeprecationWarning: distutils Version classes are deprecated. Use packaging.version instead.\n",
      "  other = LooseVersion(other)\n",
      "c:\\Users\\rusha\\miniconda3\\envs\\ddrl_project\\lib\\site-packages\\gym\\core.py:317: DeprecationWarning: \u001b[33mWARN: Initializing wrapper in old step API which returns one bool instead of two. It is recommended to set `new_step_api=True` to use new step API. This will be the default behaviour in future.\u001b[0m\n",
      "  deprecation(\n",
      "c:\\Users\\rusha\\miniconda3\\envs\\ddrl_project\\lib\\site-packages\\gym\\wrappers\\step_api_compatibility.py:39: DeprecationWarning: \u001b[33mWARN: Initializing environment in old step API which returns one bool instead of two. It is recommended to set `new_step_api=True` to use new step API. This will be the default behaviour in future.\u001b[0m\n",
      "  deprecation(\n",
      "c:\\Users\\rusha\\miniconda3\\envs\\ddrl_project\\lib\\site-packages\\gym\\utils\\passive_env_checker.py:241: DeprecationWarning: `np.bool8` is a deprecated alias for `np.bool_`.  (Deprecated NumPy 1.24)\n",
      "  if not isinstance(terminated, (bool, np.bool8)):\n"
     ]
    },
    {
     "ename": "",
     "evalue": "",
     "output_type": "error",
     "traceback": [
      "\u001b[1;31mThe Kernel crashed while executing code in the current cell or a previous cell. \n",
      "\u001b[1;31mPlease review the code in the cell(s) to identify a possible cause of the failure. \n",
      "\u001b[1;31mClick <a href='https://aka.ms/vscodeJupyterKernelCrash'>here</a> for more info. \n",
      "\u001b[1;31mView Jupyter <a href='command:jupyter.viewOutput'>log</a> for further details."
     ]
    }
   ],
   "source": [
    "import pickle\n",
    "import gym\n",
    "from dataloaders.carracing_dataloader import CarRacingDataset, CarRacingDataLoader\n",
    "\n",
    "env = gym.make(\"CarRacing-v2\", render_mode='human')\n",
    "dataset = CarRacingDataset(env, num_samples=10)\n",
    "\n",
    "dataset.expert = None\n",
    "\n",
    "with open('carracing_dataset.pkl', 'wb') as f:\n",
    "    pickle.dump(dataset, f)"
   ]
  },
  {
   "cell_type": "code",
   "execution_count": 3,
   "metadata": {},
   "outputs": [],
   "source": [
    "from torch.utils.data import Dataset, DataLoader\n",
    "import pickle\n",
    "import gym\n",
    "from dataloaders.carracing_dataloader import CarRacingDataset, CarRacingDataLoader\n",
    "\n",
    "with open('data/carracing_dataset.pkl', 'rb') as f:\n",
    "    dataset = pickle.load(f)\n",
    "loader = DataLoader(dataset, batch_size=64, shuffle=True)"
   ]
  },
  {
   "cell_type": "code",
   "execution_count": 4,
   "metadata": {},
   "outputs": [],
   "source": [
    "batch = next(iter(loader))\n",
    "obs = batch[0]\n",
    "# player_sum, dealer_card, usable_ace = obs\n"
   ]
  },
  {
   "cell_type": "code",
   "execution_count": 24,
   "metadata": {},
   "outputs": [
    {
     "name": "stdout",
     "output_type": "stream",
     "text": [
      "tensor([[[100, 100, 100],\n",
      "         [100, 100, 100],\n",
      "         [100, 100, 100],\n",
      "         ...,\n",
      "         [100, 202, 100],\n",
      "         [100, 202, 100],\n",
      "         [100, 202, 100]],\n",
      "\n",
      "        [[100, 100, 100],\n",
      "         [100, 100, 100],\n",
      "         [100, 100, 100],\n",
      "         ...,\n",
      "         [100, 202, 100],\n",
      "         [100, 202, 100],\n",
      "         [100, 202, 100]],\n",
      "\n",
      "        [[102, 102, 102],\n",
      "         [101, 101, 101],\n",
      "         [101, 101, 101],\n",
      "         ...,\n",
      "         [100, 202, 100],\n",
      "         [100, 202, 100],\n",
      "         [100, 202, 100]],\n",
      "\n",
      "        ...,\n",
      "\n",
      "        [[  0,   0,   0],\n",
      "         [  0,   0,   0],\n",
      "         [  0,   0,   0],\n",
      "         ...,\n",
      "         [  0,   0,   0],\n",
      "         [  0,   0,   0],\n",
      "         [  0,   0,   0]],\n",
      "\n",
      "        [[  0,   0,   0],\n",
      "         [  0,   0,   0],\n",
      "         [  0,   0,   0],\n",
      "         ...,\n",
      "         [  0,   0,   0],\n",
      "         [  0,   0,   0],\n",
      "         [  0,   0,   0]],\n",
      "\n",
      "        [[  0,   0,   0],\n",
      "         [  0,   0,   0],\n",
      "         [  0,   0,   0],\n",
      "         ...,\n",
      "         [  0,   0,   0],\n",
      "         [  0,   0,   0],\n",
      "         [  0,   0,   0]]], dtype=torch.uint8)\n"
     ]
    }
   ],
   "source": [
    "print(obs[0])"
   ]
  },
  {
   "cell_type": "code",
   "execution_count": 192,
   "metadata": {},
   "outputs": [
    {
     "data": {
      "image/png": "[encoded data removed]",
      "text/plain": [
       "<Figure size 640x480 with 1 Axes>"
      ]
     },
     "metadata": {},
     "output_type": "display_data"
    }
   ],
   "source": [
    "import matplotlib.pyplot as plt\n",
    "import matplotlib.patches as patches\n",
    "\n",
    "\n",
    "plt.imshow(obs[24])\n",
    "plt.axis('off')  # Turn off axis\n",
    "rectangle = patches.Rectangle((41, 62), 12, 18, linewidth=1, edgecolor='r', facecolor='none')\n",
    "\n",
    "# Add the Rectangle patch to the plot\n",
    "plt.gca().add_patch(rectangle)\n",
    "plt.show()"
   ]
  },
  {
   "cell_type": "code",
   "execution_count": 197,
   "metadata": {},
   "outputs": [
    {
     "name": "stdout",
     "output_type": "stream",
     "text": [
      "There is not a sufficient amount of green background inside the rectangle.\n",
      "There is not a sufficient amount of green background inside the rectangle.\n",
      "There is not a sufficient amount of green background inside the rectangle.\n",
      "There is not a sufficient amount of green background inside the rectangle.\n",
      "There is not a sufficient amount of green background inside the rectangle.\n",
      "There is not a sufficient amount of green background inside the rectangle.\n",
      "There is not a sufficient amount of green background inside the rectangle.\n",
      "There is a sufficient amount of green background inside the rectangle.\n",
      "There is not a sufficient amount of green background inside the rectangle.\n",
      "There is a sufficient amount of green background inside the rectangle.\n",
      "There is not a sufficient amount of green background inside the rectangle.\n",
      "There is not a sufficient amount of green background inside the rectangle.\n",
      "There is not a sufficient amount of green background inside the rectangle.\n",
      "There is a sufficient amount of green background inside the rectangle.\n",
      "There is a sufficient amount of green background inside the rectangle.\n",
      "There is not a sufficient amount of green background inside the rectangle.\n",
      "There is not a sufficient amount of green background inside the rectangle.\n",
      "There is a sufficient amount of green background inside the rectangle.\n",
      "There is not a sufficient amount of green background inside the rectangle.\n",
      "There is not a sufficient amount of green background inside the rectangle.\n",
      "There is a sufficient amount of green background inside the rectangle.\n",
      "There is a sufficient amount of green background inside the rectangle.\n",
      "There is not a sufficient amount of green background inside the rectangle.\n",
      "There is not a sufficient amount of green background inside the rectangle.\n",
      "There is a sufficient amount of green background inside the rectangle.\n",
      "There is not a sufficient amount of green background inside the rectangle.\n",
      "There is not a sufficient amount of green background inside the rectangle.\n",
      "There is not a sufficient amount of green background inside the rectangle.\n",
      "There is a sufficient amount of green background inside the rectangle.\n",
      "There is a sufficient amount of green background inside the rectangle.\n",
      "There is not a sufficient amount of green background inside the rectangle.\n",
      "There is not a sufficient amount of green background inside the rectangle.\n",
      "There is not a sufficient amount of green background inside the rectangle.\n",
      "There is not a sufficient amount of green background inside the rectangle.\n",
      "There is not a sufficient amount of green background inside the rectangle.\n",
      "There is not a sufficient amount of green background inside the rectangle.\n",
      "There is not a sufficient amount of green background inside the rectangle.\n",
      "There is not a sufficient amount of green background inside the rectangle.\n",
      "There is a sufficient amount of green background inside the rectangle.\n",
      "There is a sufficient amount of green background inside the rectangle.\n",
      "There is not a sufficient amount of green background inside the rectangle.\n",
      "There is a sufficient amount of green background inside the rectangle.\n",
      "There is not a sufficient amount of green background inside the rectangle.\n",
      "There is not a sufficient amount of green background inside the rectangle.\n",
      "There is a sufficient amount of green background inside the rectangle.\n",
      "There is not a sufficient amount of green background inside the rectangle.\n",
      "There is not a sufficient amount of green background inside the rectangle.\n",
      "There is not a sufficient amount of green background inside the rectangle.\n",
      "There is a sufficient amount of green background inside the rectangle.\n",
      "There is a sufficient amount of green background inside the rectangle.\n",
      "There is a sufficient amount of green background inside the rectangle.\n",
      "There is not a sufficient amount of green background inside the rectangle.\n",
      "There is a sufficient amount of green background inside the rectangle.\n",
      "There is a sufficient amount of green background inside the rectangle.\n",
      "There is not a sufficient amount of green background inside the rectangle.\n",
      "There is a sufficient amount of green background inside the rectangle.\n",
      "There is not a sufficient amount of green background inside the rectangle.\n",
      "There is not a sufficient amount of green background inside the rectangle.\n",
      "There is not a sufficient amount of green background inside the rectangle.\n",
      "There is not a sufficient amount of green background inside the rectangle.\n",
      "There is not a sufficient amount of green background inside the rectangle.\n",
      "There is not a sufficient amount of green background inside the rectangle.\n",
      "There is not a sufficient amount of green background inside the rectangle.\n",
      "There is not a sufficient amount of green background inside the rectangle.\n",
      "20\n"
     ]
    }
   ],
   "source": [
    "import numpy as np\n",
    "import matplotlib.pyplot as plt\n",
    "import matplotlib.patches as patches\n",
    "import torch\n",
    "\n",
    "# Assuming 'image' contains your image and 'rectangle' is defined as you described\n",
    "# You may need to adjust these values based on your specific image dimensions\n",
    "x, y, width, height = 42, 63, 12, 17\n",
    "count = 0\n",
    "for i in range(0, 64):\n",
    "    # Crop the region inside the rectangle from the image\n",
    "    cropped_region = obs[i][y:y+height, x:x+width]\n",
    "\n",
    "    # # Extract the green channel from the cropped region\n",
    "    green_channel = cropped_region[:, :, 1]  # Green channel is index 1 for RGB images\n",
    "\n",
    "    # # Calculate the proportion of green pixels\n",
    "    total_pixels = width * height\n",
    "    green_pixels = torch.sum(green_channel > 150).item()  # Adjust the threshold as needed\n",
    "    green_proportion = green_pixels / total_pixels\n",
    "\n",
    "    # Check if there is a sufficient amount of green background\n",
    "    if green_proportion > 0.3:  # Adjust the threshold as needed\n",
    "        print(\"There is a sufficient amount of green background inside the rectangle.\")\n",
    "        count += 1\n",
    "    else:\n",
    "        print(\"There is not a sufficient amount of green background inside the rectangle.\")\n",
    "\n",
    "# # Display the cropped region (optional)\n",
    "# plt.imshow(cropped_region)\n",
    "# plt.axis('off')\n",
    "# plt.show()\n",
    "print(count)\n"
   ]
  },
  {
   "cell_type": "code",
   "execution_count": 178,
   "metadata": {},
   "outputs": [
    {
     "name": "stdout",
     "output_type": "stream",
     "text": [
      "tensor([[228, 228, 228, 142, 105, 105, 105, 105, 105, 105, 105],\n",
      "        [228, 228, 228, 153, 105, 105, 105, 105, 105, 105, 105],\n",
      "        [228, 228, 228, 162, 105, 104, 104, 104, 103, 103, 103],\n",
      "        [228, 228, 228, 170, 102, 102, 102, 102, 102, 102, 102],\n",
      "        [228, 228, 228, 177,  87,  86,  86,  87, 102, 102, 102],\n",
      "        [228, 228, 228, 177,  10,   8,   8,  14, 101, 102, 102],\n",
      "        [228, 228, 228, 171,  14,  43,  43,  82,  97, 102, 102],\n",
      "        [228, 228, 227, 173,  18,  37,  37,  28,  82, 102, 102],\n",
      "        [228, 228, 223, 191, 102,  33,  33, 102, 102, 102, 102],\n",
      "        [228, 228, 218, 200,  89,   7,   7,  88, 101, 100, 100],\n",
      "        [228, 228, 213, 202,  45,   0,   0,  40, 100, 100, 100],\n",
      "        [228, 228, 208, 202,  56,   0,   0,  45, 100, 100, 100],\n",
      "        [228, 228, 204, 173,  56,   1,   1,  15,  80, 100, 100],\n",
      "        [227, 224, 202, 160,  11,  11,  11,  11,  79, 100, 100],\n",
      "        [203, 207, 202, 189,  69,  32,  32,  45,  94, 100, 100],\n",
      "        [202, 202, 202, 202, 140, 100, 100, 100, 101, 101, 102],\n",
      "        [202, 202, 202, 202, 149, 104, 105, 105, 105, 105, 105],\n",
      "        [202, 202, 202, 202, 157, 105, 105, 105, 105, 105, 105]],\n",
      "       dtype=torch.uint8)\n"
     ]
    }
   ],
   "source": [
    "print(green_channel)"
   ]
  },
  {
   "cell_type": "code",
   "execution_count": 179,
   "metadata": {},
   "outputs": [
    {
     "name": "stdout",
     "output_type": "stream",
     "text": [
      "tensor([[ True,  True,  True, False, False, False, False, False, False, False,\n",
      "         False],\n",
      "        [ True,  True,  True,  True, False, False, False, False, False, False,\n",
      "         False],\n",
      "        [ True,  True,  True,  True, False, False, False, False, False, False,\n",
      "         False],\n",
      "        [ True,  True,  True,  True, False, False, False, False, False, False,\n",
      "         False],\n",
      "        [ True,  True,  True,  True, False, False, False, False, False, False,\n",
      "         False],\n",
      "        [ True,  True,  True,  True, False, False, False, False, False, False,\n",
      "         False],\n",
      "        [ True,  True,  True,  True, False, False, False, False, False, False,\n",
      "         False],\n",
      "        [ True,  True,  True,  True, False, False, False, False, False, False,\n",
      "         False],\n",
      "        [ True,  True,  True,  True, False, False, False, False, False, False,\n",
      "         False],\n",
      "        [ True,  True,  True,  True, False, False, False, False, False, False,\n",
      "         False],\n",
      "        [ True,  True,  True,  True, False, False, False, False, False, False,\n",
      "         False],\n",
      "        [ True,  True,  True,  True, False, False, False, False, False, False,\n",
      "         False],\n",
      "        [ True,  True,  True,  True, False, False, False, False, False, False,\n",
      "         False],\n",
      "        [ True,  True,  True,  True, False, False, False, False, False, False,\n",
      "         False],\n",
      "        [ True,  True,  True,  True, False, False, False, False, False, False,\n",
      "         False],\n",
      "        [ True,  True,  True,  True, False, False, False, False, False, False,\n",
      "         False],\n",
      "        [ True,  True,  True,  True, False, False, False, False, False, False,\n",
      "         False],\n",
      "        [ True,  True,  True,  True,  True, False, False, False, False, False,\n",
      "         False]])\n"
     ]
    }
   ],
   "source": [
    "print(green_channel > 150)"
   ]
  }
 ],
 "metadata": {
  "kernelspec": {
   "display_name": "ddrl_project",
   "language": "python",
   "name": "python3"
  },
  "language_info": {
   "codemirror_mode": {
    "name": "ipython",
    "version": 3
   },
   "file_extension": ".py",
   "mimetype": "text/x-python",
   "name": "python",
   "nbconvert_exporter": "python",
   "pygments_lexer": "ipython3",
   "version": "3.8.19"
  }
 },
 "nbformat": 4,
 "nbformat_minor": 2
}
