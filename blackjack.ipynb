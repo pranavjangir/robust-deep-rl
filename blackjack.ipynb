{
 "cells": [
  {
   "cell_type": "code",
   "execution_count": 1,
   "metadata": {},
   "outputs": [
    {
     "name": "stderr",
     "output_type": "stream",
     "text": [
      "\n"
     ]
    }
   ],
   "source": [
    "from envs.blackjack_env import BlackjackEnv\n",
    "from dataloaders.blackjack_dataloader import BlackjackDataLoader\n",
    "\n",
    "env = BlackjackEnv()\n",
    "loader = BlackjackDataLoader(env, num_samples=1000, batch_size=64)"
   ]
  },
  {
   "cell_type": "code",
   "execution_count": 4,
   "metadata": {},
   "outputs": [
    {
     "ename": "TypeError",
     "evalue": "'BlackjackDataLoader' object is not subscriptable",
     "output_type": "error",
     "traceback": [
      "\u001b[1;31m---------------------------------------------------------------------------\u001b[0m",
      "\u001b[1;31mTypeError\u001b[0m                                 Traceback (most recent call last)",
      "Cell \u001b[1;32mIn[4], line 1\u001b[0m\n\u001b[1;32m----> 1\u001b[0m \u001b[38;5;28;01mfor\u001b[39;00m batch \u001b[38;5;129;01min\u001b[39;00m \u001b[43mloader\u001b[49m\u001b[43m[\u001b[49m\u001b[43m:\u001b[49m\u001b[38;5;241;43m1\u001b[39;49m\u001b[43m]\u001b[49m:\n\u001b[0;32m      3\u001b[0m     obs_batch, action_batch \u001b[38;5;241m=\u001b[39m batch\n\u001b[0;32m      4\u001b[0m     \u001b[38;5;66;03m# Use obs_batch and action_batch in your training loop\u001b[39;00m\n",
      "\u001b[1;31mTypeError\u001b[0m: 'BlackjackDataLoader' object is not subscriptable"
     ]
    }
   ],
   "source": [
    "for batch in iter(loader)[0]:\n",
    "\n",
    "    obs_batch, action_batch = batch\n",
    "    # Use obs_batch and action_batch in your training loop\n",
    "    print(obs_batch)\n",
    "    print(action_batch)"
   ]
  }
 ],
 "metadata": {
  "kernelspec": {
   "display_name": "ddrl_project",
   "language": "python",
   "name": "python3"
  },
  "language_info": {
   "codemirror_mode": {
    "name": "ipython",
    "version": 3
   },
   "file_extension": ".py",
   "mimetype": "text/x-python",
   "name": "python",
   "nbconvert_exporter": "python",
   "pygments_lexer": "ipython3",
   "version": "3.8.19"
  }
 },
 "nbformat": 4,
 "nbformat_minor": 2
}
